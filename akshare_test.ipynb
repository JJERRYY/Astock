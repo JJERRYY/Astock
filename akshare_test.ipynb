{
 "cells": [
  {
   "cell_type": "code",
   "execution_count": 1,
   "id": "initial_id",
   "metadata": {
    "collapsed": true,
    "ExecuteTime": {
     "end_time": "2025-02-12T17:20:16.350632800Z",
     "start_time": "2025-02-12T17:20:15.160181900Z"
    }
   },
   "outputs": [],
   "source": [
    "import akshare as ak\n"
   ]
  },
  {
   "cell_type": "code",
   "execution_count": 12,
   "outputs": [
    {
     "data": {
      "text/plain": "Empty DataFrame\nColumns: [时间, 开盘, 收盘, 最高, 最低, 成交量, 成交额, 均价]\nIndex: []",
      "text/html": "<div>\n<style scoped>\n    .dataframe tbody tr th:only-of-type {\n        vertical-align: middle;\n    }\n\n    .dataframe tbody tr th {\n        vertical-align: top;\n    }\n\n    .dataframe thead th {\n        text-align: right;\n    }\n</style>\n<table border=\"1\" class=\"dataframe\">\n  <thead>\n    <tr style=\"text-align: right;\">\n      <th></th>\n      <th>时间</th>\n      <th>开盘</th>\n      <th>收盘</th>\n      <th>最高</th>\n      <th>最低</th>\n      <th>成交量</th>\n      <th>成交额</th>\n      <th>均价</th>\n    </tr>\n  </thead>\n  <tbody>\n  </tbody>\n</table>\n</div>"
     },
     "execution_count": 12,
     "metadata": {},
     "output_type": "execute_result"
    }
   ],
   "source": [
    "# 注意：该接口返回的数据只有最近一个交易日的有开盘价，其他日期开盘价为 0\n",
    "stock_zh_a_hist_min_em_df = ak.stock_zh_a_hist_min_em(symbol=\"000936\", start_date=\"2024-6-7 09:30:00\", end_date=\"2024-6-12 15:00:00\", period=\"1\", adjust=\"qfq\")\n",
    "stock_zh_a_hist_min_em_df"
   ],
   "metadata": {
    "collapsed": false,
    "ExecuteTime": {
     "end_time": "2024-12-28T09:53:11.019262100Z",
     "start_time": "2024-12-28T09:53:10.682960Z"
    }
   },
   "id": "60c9f7aa2c67ccec"
  },
  {
   "cell_type": "code",
   "execution_count": 9,
   "outputs": [
    {
     "data": {
      "text/plain": "                      时间    开盘    收盘    最高    最低   成交量        成交额    最新价\n0    2024-12-27 09:15:00  8.41  8.41  8.41  8.41     0        0.0  8.410\n1    2024-12-27 09:16:00  8.41  8.41  8.41  8.41     0        0.0  8.410\n2    2024-12-27 09:17:00  8.41  8.41  8.41  8.41     0        0.0  8.410\n3    2024-12-27 09:18:00  8.41  8.41  8.41  8.41     0        0.0  8.410\n4    2024-12-27 09:19:00  8.41  8.33  8.41  8.33     0        0.0  8.410\n..                   ...   ...   ...   ...   ...   ...        ...    ...\n251  2024-12-27 14:56:00  9.25  9.25  9.25  9.25  3883  3591775.0  8.831\n252  2024-12-27 14:57:00  9.25  9.25  9.25  9.25  1284  1187700.0  8.831\n253  2024-12-27 14:58:00  9.25  9.25  9.25  9.25    47    43475.0  8.831\n254  2024-12-27 14:59:00  9.25  9.25  9.25  9.25     0        0.0  8.831\n255  2024-12-27 15:00:00  9.25  9.25  9.25  9.25  4810  4449250.0  8.833\n\n[256 rows x 8 columns]",
      "text/html": "<div>\n<style scoped>\n    .dataframe tbody tr th:only-of-type {\n        vertical-align: middle;\n    }\n\n    .dataframe tbody tr th {\n        vertical-align: top;\n    }\n\n    .dataframe thead th {\n        text-align: right;\n    }\n</style>\n<table border=\"1\" class=\"dataframe\">\n  <thead>\n    <tr style=\"text-align: right;\">\n      <th></th>\n      <th>时间</th>\n      <th>开盘</th>\n      <th>收盘</th>\n      <th>最高</th>\n      <th>最低</th>\n      <th>成交量</th>\n      <th>成交额</th>\n      <th>最新价</th>\n    </tr>\n  </thead>\n  <tbody>\n    <tr>\n      <th>0</th>\n      <td>2024-12-27 09:15:00</td>\n      <td>8.41</td>\n      <td>8.41</td>\n      <td>8.41</td>\n      <td>8.41</td>\n      <td>0</td>\n      <td>0.0</td>\n      <td>8.410</td>\n    </tr>\n    <tr>\n      <th>1</th>\n      <td>2024-12-27 09:16:00</td>\n      <td>8.41</td>\n      <td>8.41</td>\n      <td>8.41</td>\n      <td>8.41</td>\n      <td>0</td>\n      <td>0.0</td>\n      <td>8.410</td>\n    </tr>\n    <tr>\n      <th>2</th>\n      <td>2024-12-27 09:17:00</td>\n      <td>8.41</td>\n      <td>8.41</td>\n      <td>8.41</td>\n      <td>8.41</td>\n      <td>0</td>\n      <td>0.0</td>\n      <td>8.410</td>\n    </tr>\n    <tr>\n      <th>3</th>\n      <td>2024-12-27 09:18:00</td>\n      <td>8.41</td>\n      <td>8.41</td>\n      <td>8.41</td>\n      <td>8.41</td>\n      <td>0</td>\n      <td>0.0</td>\n      <td>8.410</td>\n    </tr>\n    <tr>\n      <th>4</th>\n      <td>2024-12-27 09:19:00</td>\n      <td>8.41</td>\n      <td>8.33</td>\n      <td>8.41</td>\n      <td>8.33</td>\n      <td>0</td>\n      <td>0.0</td>\n      <td>8.410</td>\n    </tr>\n    <tr>\n      <th>...</th>\n      <td>...</td>\n      <td>...</td>\n      <td>...</td>\n      <td>...</td>\n      <td>...</td>\n      <td>...</td>\n      <td>...</td>\n      <td>...</td>\n    </tr>\n    <tr>\n      <th>251</th>\n      <td>2024-12-27 14:56:00</td>\n      <td>9.25</td>\n      <td>9.25</td>\n      <td>9.25</td>\n      <td>9.25</td>\n      <td>3883</td>\n      <td>3591775.0</td>\n      <td>8.831</td>\n    </tr>\n    <tr>\n      <th>252</th>\n      <td>2024-12-27 14:57:00</td>\n      <td>9.25</td>\n      <td>9.25</td>\n      <td>9.25</td>\n      <td>9.25</td>\n      <td>1284</td>\n      <td>1187700.0</td>\n      <td>8.831</td>\n    </tr>\n    <tr>\n      <th>253</th>\n      <td>2024-12-27 14:58:00</td>\n      <td>9.25</td>\n      <td>9.25</td>\n      <td>9.25</td>\n      <td>9.25</td>\n      <td>47</td>\n      <td>43475.0</td>\n      <td>8.831</td>\n    </tr>\n    <tr>\n      <th>254</th>\n      <td>2024-12-27 14:59:00</td>\n      <td>9.25</td>\n      <td>9.25</td>\n      <td>9.25</td>\n      <td>9.25</td>\n      <td>0</td>\n      <td>0.0</td>\n      <td>8.831</td>\n    </tr>\n    <tr>\n      <th>255</th>\n      <td>2024-12-27 15:00:00</td>\n      <td>9.25</td>\n      <td>9.25</td>\n      <td>9.25</td>\n      <td>9.25</td>\n      <td>4810</td>\n      <td>4449250.0</td>\n      <td>8.833</td>\n    </tr>\n  </tbody>\n</table>\n<p>256 rows × 8 columns</p>\n</div>"
     },
     "execution_count": 9,
     "metadata": {},
     "output_type": "execute_result"
    }
   ],
   "source": [
    "stock_zh_a_hist_pre_min_em_df = ak.stock_zh_a_hist_pre_min_em(symbol=\"000936\", start_time=\"09:00:00\", end_time=\"15:40:00\")\n",
    "stock_zh_a_hist_pre_min_em_df"
   ],
   "metadata": {
    "collapsed": false,
    "ExecuteTime": {
     "end_time": "2024-12-28T09:47:37.426433200Z",
     "start_time": "2024-12-28T09:47:37.090367700Z"
    }
   },
   "id": "6e4d9cf46cdc232e"
  },
  {
   "cell_type": "code",
   "execution_count": 35,
   "outputs": [
    {
     "data": {
      "text/plain": "     股票名称    股票代码                日期    开盘    收盘    最高    最低    成交量  \\\n0    华西股份  000936  2024-12-27 09:31  8.25  8.30  8.40  8.25  42184   \n1    华西股份  000936  2024-12-27 09:32  8.29  8.23  8.29  8.18  46081   \n2    华西股份  000936  2024-12-27 09:33  8.21  8.23  8.24  8.21  15002   \n3    华西股份  000936  2024-12-27 09:34  8.24  8.27  8.27  8.21  13288   \n4    华西股份  000936  2024-12-27 09:35  8.27  8.25  8.27  8.24  11777   \n..    ...     ...               ...   ...   ...   ...   ...    ...   \n235  华西股份  000936  2024-12-27 14:56  9.25  9.25  9.25  9.25   3883   \n236  华西股份  000936  2024-12-27 14:57  9.25  9.25  9.25  9.25   1284   \n237  华西股份  000936  2024-12-27 14:58  9.25  9.25  9.25  9.25     47   \n238  华西股份  000936  2024-12-27 14:59  9.25  9.25  9.25  9.25      0   \n239  华西股份  000936  2024-12-27 15:00  9.25  9.25  9.25  9.25   4810   \n\n            成交额    振幅   涨跌幅   涨跌额   换手率  \n0    34904985.0  1.78 -1.31 -0.11  0.48  \n1    37962756.0  1.33 -0.84 -0.07  0.52  \n2    12338089.0  0.36  0.00  0.00  0.17  \n3    10937671.0  0.73  0.49  0.04  0.15  \n4     9718043.0  0.36 -0.24 -0.02  0.13  \n..          ...   ...   ...   ...   ...  \n235   3591775.0  0.00  0.00  0.00  0.04  \n236   1187700.0  0.00  0.00  0.00  0.01  \n237     43475.0  0.00  0.00  0.00  0.00  \n238         0.0  0.00  0.00  0.00  0.00  \n239   4449250.0  0.00  0.00  0.00  0.05  \n\n[240 rows x 13 columns]",
      "text/html": "<div>\n<style scoped>\n    .dataframe tbody tr th:only-of-type {\n        vertical-align: middle;\n    }\n\n    .dataframe tbody tr th {\n        vertical-align: top;\n    }\n\n    .dataframe thead th {\n        text-align: right;\n    }\n</style>\n<table border=\"1\" class=\"dataframe\">\n  <thead>\n    <tr style=\"text-align: right;\">\n      <th></th>\n      <th>股票名称</th>\n      <th>股票代码</th>\n      <th>日期</th>\n      <th>开盘</th>\n      <th>收盘</th>\n      <th>最高</th>\n      <th>最低</th>\n      <th>成交量</th>\n      <th>成交额</th>\n      <th>振幅</th>\n      <th>涨跌幅</th>\n      <th>涨跌额</th>\n      <th>换手率</th>\n    </tr>\n  </thead>\n  <tbody>\n    <tr>\n      <th>0</th>\n      <td>华西股份</td>\n      <td>000936</td>\n      <td>2024-12-27 09:31</td>\n      <td>8.25</td>\n      <td>8.30</td>\n      <td>8.40</td>\n      <td>8.25</td>\n      <td>42184</td>\n      <td>34904985.0</td>\n      <td>1.78</td>\n      <td>-1.31</td>\n      <td>-0.11</td>\n      <td>0.48</td>\n    </tr>\n    <tr>\n      <th>1</th>\n      <td>华西股份</td>\n      <td>000936</td>\n      <td>2024-12-27 09:32</td>\n      <td>8.29</td>\n      <td>8.23</td>\n      <td>8.29</td>\n      <td>8.18</td>\n      <td>46081</td>\n      <td>37962756.0</td>\n      <td>1.33</td>\n      <td>-0.84</td>\n      <td>-0.07</td>\n      <td>0.52</td>\n    </tr>\n    <tr>\n      <th>2</th>\n      <td>华西股份</td>\n      <td>000936</td>\n      <td>2024-12-27 09:33</td>\n      <td>8.21</td>\n      <td>8.23</td>\n      <td>8.24</td>\n      <td>8.21</td>\n      <td>15002</td>\n      <td>12338089.0</td>\n      <td>0.36</td>\n      <td>0.00</td>\n      <td>0.00</td>\n      <td>0.17</td>\n    </tr>\n    <tr>\n      <th>3</th>\n      <td>华西股份</td>\n      <td>000936</td>\n      <td>2024-12-27 09:34</td>\n      <td>8.24</td>\n      <td>8.27</td>\n      <td>8.27</td>\n      <td>8.21</td>\n      <td>13288</td>\n      <td>10937671.0</td>\n      <td>0.73</td>\n      <td>0.49</td>\n      <td>0.04</td>\n      <td>0.15</td>\n    </tr>\n    <tr>\n      <th>4</th>\n      <td>华西股份</td>\n      <td>000936</td>\n      <td>2024-12-27 09:35</td>\n      <td>8.27</td>\n      <td>8.25</td>\n      <td>8.27</td>\n      <td>8.24</td>\n      <td>11777</td>\n      <td>9718043.0</td>\n      <td>0.36</td>\n      <td>-0.24</td>\n      <td>-0.02</td>\n      <td>0.13</td>\n    </tr>\n    <tr>\n      <th>...</th>\n      <td>...</td>\n      <td>...</td>\n      <td>...</td>\n      <td>...</td>\n      <td>...</td>\n      <td>...</td>\n      <td>...</td>\n      <td>...</td>\n      <td>...</td>\n      <td>...</td>\n      <td>...</td>\n      <td>...</td>\n      <td>...</td>\n    </tr>\n    <tr>\n      <th>235</th>\n      <td>华西股份</td>\n      <td>000936</td>\n      <td>2024-12-27 14:56</td>\n      <td>9.25</td>\n      <td>9.25</td>\n      <td>9.25</td>\n      <td>9.25</td>\n      <td>3883</td>\n      <td>3591775.0</td>\n      <td>0.00</td>\n      <td>0.00</td>\n      <td>0.00</td>\n      <td>0.04</td>\n    </tr>\n    <tr>\n      <th>236</th>\n      <td>华西股份</td>\n      <td>000936</td>\n      <td>2024-12-27 14:57</td>\n      <td>9.25</td>\n      <td>9.25</td>\n      <td>9.25</td>\n      <td>9.25</td>\n      <td>1284</td>\n      <td>1187700.0</td>\n      <td>0.00</td>\n      <td>0.00</td>\n      <td>0.00</td>\n      <td>0.01</td>\n    </tr>\n    <tr>\n      <th>237</th>\n      <td>华西股份</td>\n      <td>000936</td>\n      <td>2024-12-27 14:58</td>\n      <td>9.25</td>\n      <td>9.25</td>\n      <td>9.25</td>\n      <td>9.25</td>\n      <td>47</td>\n      <td>43475.0</td>\n      <td>0.00</td>\n      <td>0.00</td>\n      <td>0.00</td>\n      <td>0.00</td>\n    </tr>\n    <tr>\n      <th>238</th>\n      <td>华西股份</td>\n      <td>000936</td>\n      <td>2024-12-27 14:59</td>\n      <td>9.25</td>\n      <td>9.25</td>\n      <td>9.25</td>\n      <td>9.25</td>\n      <td>0</td>\n      <td>0.0</td>\n      <td>0.00</td>\n      <td>0.00</td>\n      <td>0.00</td>\n      <td>0.00</td>\n    </tr>\n    <tr>\n      <th>239</th>\n      <td>华西股份</td>\n      <td>000936</td>\n      <td>2024-12-27 15:00</td>\n      <td>9.25</td>\n      <td>9.25</td>\n      <td>9.25</td>\n      <td>9.25</td>\n      <td>4810</td>\n      <td>4449250.0</td>\n      <td>0.00</td>\n      <td>0.00</td>\n      <td>0.00</td>\n      <td>0.05</td>\n    </tr>\n  </tbody>\n</table>\n<p>240 rows × 13 columns</p>\n</div>"
     },
     "execution_count": 35,
     "metadata": {},
     "output_type": "execute_result"
    }
   ],
   "source": [
    "import efinance as ef\n",
    "# 获取单只股票日 K 行情数据\n",
    "ef.stock.get_quote_history('000936', '2020-12-27', '2020-12-27',klt='1')"
   ],
   "metadata": {
    "collapsed": false,
    "ExecuteTime": {
     "end_time": "2024-12-28T10:38:55.972072100Z",
     "start_time": "2024-12-28T10:38:55.844331600Z"
    }
   },
   "id": "958d8510fb6bcaf"
  },
  {
   "cell_type": "code",
   "execution_count": 34,
   "outputs": [
    {
     "data": {
      "text/plain": "     股票名称    股票代码          日期     时间   最新价     均价    成交量    昨收    开盘\n0    华西股份  000936  2024-12-27  09:30  8.25  8.250  22188  8.41  8.25\n1    华西股份  000936  2024-12-27  09:31  8.30  8.274  19996  8.41  8.25\n2    华西股份  000936  2024-12-27  09:32  8.23  8.255  46081  8.41  8.25\n3    华西股份  000936  2024-12-27  09:33  8.23  8.251  15002  8.41  8.25\n4    华西股份  000936  2024-12-27  09:34  8.27  8.249  13287  8.41  8.25\n..    ...     ...         ...    ...   ...    ...    ...   ...   ...\n236  华西股份  000936  2024-12-27  14:56  9.25  8.831   3883  8.41  8.25\n237  华西股份  000936  2024-12-27  14:57  9.25  8.831   1284  8.41  8.25\n238  华西股份  000936  2024-12-27  14:58  9.25  8.831     47  8.41  8.25\n239  华西股份  000936  2024-12-27  14:59  9.25  8.831      0  8.41  8.25\n240  华西股份  000936  2024-12-27  15:00  9.25  8.833   4810  8.41  8.25\n\n[241 rows x 9 columns]",
      "text/html": "<div>\n<style scoped>\n    .dataframe tbody tr th:only-of-type {\n        vertical-align: middle;\n    }\n\n    .dataframe tbody tr th {\n        vertical-align: top;\n    }\n\n    .dataframe thead th {\n        text-align: right;\n    }\n</style>\n<table border=\"1\" class=\"dataframe\">\n  <thead>\n    <tr style=\"text-align: right;\">\n      <th></th>\n      <th>股票名称</th>\n      <th>股票代码</th>\n      <th>日期</th>\n      <th>时间</th>\n      <th>最新价</th>\n      <th>均价</th>\n      <th>成交量</th>\n      <th>昨收</th>\n      <th>开盘</th>\n    </tr>\n  </thead>\n  <tbody>\n    <tr>\n      <th>0</th>\n      <td>华西股份</td>\n      <td>000936</td>\n      <td>2024-12-27</td>\n      <td>09:30</td>\n      <td>8.25</td>\n      <td>8.250</td>\n      <td>22188</td>\n      <td>8.41</td>\n      <td>8.25</td>\n    </tr>\n    <tr>\n      <th>1</th>\n      <td>华西股份</td>\n      <td>000936</td>\n      <td>2024-12-27</td>\n      <td>09:31</td>\n      <td>8.30</td>\n      <td>8.274</td>\n      <td>19996</td>\n      <td>8.41</td>\n      <td>8.25</td>\n    </tr>\n    <tr>\n      <th>2</th>\n      <td>华西股份</td>\n      <td>000936</td>\n      <td>2024-12-27</td>\n      <td>09:32</td>\n      <td>8.23</td>\n      <td>8.255</td>\n      <td>46081</td>\n      <td>8.41</td>\n      <td>8.25</td>\n    </tr>\n    <tr>\n      <th>3</th>\n      <td>华西股份</td>\n      <td>000936</td>\n      <td>2024-12-27</td>\n      <td>09:33</td>\n      <td>8.23</td>\n      <td>8.251</td>\n      <td>15002</td>\n      <td>8.41</td>\n      <td>8.25</td>\n    </tr>\n    <tr>\n      <th>4</th>\n      <td>华西股份</td>\n      <td>000936</td>\n      <td>2024-12-27</td>\n      <td>09:34</td>\n      <td>8.27</td>\n      <td>8.249</td>\n      <td>13287</td>\n      <td>8.41</td>\n      <td>8.25</td>\n    </tr>\n    <tr>\n      <th>...</th>\n      <td>...</td>\n      <td>...</td>\n      <td>...</td>\n      <td>...</td>\n      <td>...</td>\n      <td>...</td>\n      <td>...</td>\n      <td>...</td>\n      <td>...</td>\n    </tr>\n    <tr>\n      <th>236</th>\n      <td>华西股份</td>\n      <td>000936</td>\n      <td>2024-12-27</td>\n      <td>14:56</td>\n      <td>9.25</td>\n      <td>8.831</td>\n      <td>3883</td>\n      <td>8.41</td>\n      <td>8.25</td>\n    </tr>\n    <tr>\n      <th>237</th>\n      <td>华西股份</td>\n      <td>000936</td>\n      <td>2024-12-27</td>\n      <td>14:57</td>\n      <td>9.25</td>\n      <td>8.831</td>\n      <td>1284</td>\n      <td>8.41</td>\n      <td>8.25</td>\n    </tr>\n    <tr>\n      <th>238</th>\n      <td>华西股份</td>\n      <td>000936</td>\n      <td>2024-12-27</td>\n      <td>14:58</td>\n      <td>9.25</td>\n      <td>8.831</td>\n      <td>47</td>\n      <td>8.41</td>\n      <td>8.25</td>\n    </tr>\n    <tr>\n      <th>239</th>\n      <td>华西股份</td>\n      <td>000936</td>\n      <td>2024-12-27</td>\n      <td>14:59</td>\n      <td>9.25</td>\n      <td>8.831</td>\n      <td>0</td>\n      <td>8.41</td>\n      <td>8.25</td>\n    </tr>\n    <tr>\n      <th>240</th>\n      <td>华西股份</td>\n      <td>000936</td>\n      <td>2024-12-27</td>\n      <td>15:00</td>\n      <td>9.25</td>\n      <td>8.833</td>\n      <td>4810</td>\n      <td>8.41</td>\n      <td>8.25</td>\n    </tr>\n  </tbody>\n</table>\n<p>241 rows × 9 columns</p>\n</div>"
     },
     "execution_count": 34,
     "metadata": {},
     "output_type": "execute_result"
    }
   ],
   "source": [
    "import requests\n",
    "from efinance.utils import search_quote\n",
    "from datetime import datetime\n",
    "import pandas as pd\n",
    "from efinance.utils import to_numeric\n",
    "\n",
    "\n",
    "@to_numeric\n",
    "def get_quote_history_1_minute(stock_code: str,\n",
    "                             date: str) -> pd.DataFrame:\n",
    "    \n",
    "    \"\"\"\n",
    "    获取股票、债券的指定日期的 1 分钟 K 线数据\n",
    "    \n",
    "    Parameters\n",
    "    ----------\n",
    "    stock_code : str\n",
    "        股票代码 或者股票代码列表\n",
    "    date : str\n",
    "        日期\n",
    "    \n",
    "    Returns\n",
    "    -------\n",
    "    DataFrame\n",
    "\n",
    "    Examples\n",
    "    --------\n",
    "    >>> stock_code = '000936'\n",
    "    >>> date = '20220304'\n",
    "    >>> get_quote_history_1_minute(stock_code,date)\n",
    "            股票名称    股票代码          日期     时间      最新价        均价   成交量    昨收    开盘\n",
    "        0    贵州茅台  600519  2022-03-04  09:30   1772.0    1772.0   571  1800  1772\n",
    "        1    贵州茅台  600519  2022-03-04  09:31   1770.0  1770.818  1039  1800  1772\n",
    "        2    贵州茅台  600519  2022-03-04  09:32  1773.53  1770.957   453  1800  1772\n",
    "        3    贵州茅台  600519  2022-03-04  09:33  1779.98  1772.293   496  1800  1772\n",
    "        4    贵州茅台  600519  2022-03-04  09:34   1773.0   1773.12   505  1800  1772\n",
    "        ..    ...     ...         ...    ...      ...       ...   ...   ...   ...\n",
    "        236  贵州茅台  600519  2022-03-04  14:56  1779.23  1774.363   154  1800  1772\n",
    "        237  贵州茅台  600519  2022-03-04  14:57  1781.61  1774.401   181  1800  1772\n",
    "        238  贵州茅台  600519  2022-03-04  14:58  1781.88  1774.401     2  1800  1772\n",
    "        239  贵州茅台  600519  2022-03-04  14:59  1781.88  1774.401     0  1800  1772\n",
    "        240  贵州茅台  600519  2022-03-04  15:00   1780.5  1774.456   276  1800  1772\n",
    "        [241 rows x 9 columns]\n",
    "    \"\"\"\n",
    "    q = search_quote(stock_code)\n",
    "    df = pd.DataFrame(columns=['股票名称', '股票代码', '日期', '时间',\n",
    "                               '最新价', '均价', '成交量', '昨收', '开盘'])\n",
    "    if not q:\n",
    "        return df\n",
    "    data = {\n",
    "        'Day': date,\n",
    "        'PhoneOSNew': '2',\n",
    "        'StockID': q.code,\n",
    "        'Token': '0',\n",
    "        'UserID': '0',\n",
    "        'VerSion': '5.2.1.0',\n",
    "        'a': 'GetStockTrend',\n",
    "        'apiv': 'w28',\n",
    "        'c': 'StockL2History'\n",
    "    }\n",
    "    url = 'https://apphis.longhuvip.com/w1/api/index.php'\n",
    "    response = requests.post(url, data=data)\n",
    "\n",
    "    try:\n",
    "        js = response.json()\n",
    "    except:\n",
    "        return df\n",
    "    if not js.get('trend'):\n",
    "        return df\n",
    "    trend = pd.DataFrame(js['trend'])\n",
    "    df[['时间', '最新价', '均价', '成交量']] = trend.values[:, :4]\n",
    "    df['日期'] = datetime.strptime(\n",
    "        js['day'], '%Y%m%d').strftime('%Y-%m-%d')\n",
    "    df['昨收'] = js['preclose_px']\n",
    "    df['开盘'] = js['begin_px']\n",
    "    df['股票代码'] = q.code\n",
    "    df['股票名称'] = q.name\n",
    "    return df\n",
    "df = get_quote_history_1_minute('000936', '20241227')\n",
    "df"
   ],
   "metadata": {
    "collapsed": false,
    "ExecuteTime": {
     "end_time": "2024-12-28T10:37:19.679425300Z",
     "start_time": "2024-12-28T10:37:19.292578200Z"
    }
   },
   "id": "da4b462056d99331"
  },
  {
   "cell_type": "code",
   "execution_count": 48,
   "outputs": [
    {
     "name": "stdout",
     "output_type": "stream",
     "text": [
      "login success!\n",
      "login respond error_code:0\n",
      "login respond  error_msg:success\n",
      "query_history_k_data_plus respond error_code:10004012\n",
      "query_history_k_data_plus respond  error_msg:5分钟线指标参数传入错误:turn\n",
      "logout success!\n"
     ]
    },
    {
     "data": {
      "text/plain": "<baostock.data.resultset.ResultData at 0x1a10b95edf0>"
     },
     "execution_count": 48,
     "metadata": {},
     "output_type": "execute_result"
    }
   ],
   "source": [
    "import baostock as bs\n",
    "import pandas as pd\n",
    "\n",
    "#### 登陆系统 ####\n",
    "lg = bs.login()\n",
    "# 显示登陆返回信息\n",
    "print('login respond error_code:'+lg.error_code)\n",
    "print('login respond  error_msg:'+lg.error_msg)\n",
    "\n",
    "#### 获取沪深A股历史K线数据 ####\n",
    "# 详细指标参数，参见“历史行情指标参数”章节；“分钟线”参数与“日线”参数不同。“分钟线”不包含指数。\n",
    "# 分钟线指标：date,time,code,open,high,low,close,volume,amount,adjustflag\n",
    "# 周月线指标：date,code,open,high,low,close,volume,amount,adjustflag,turn,pctChg\n",
    "rs = bs.query_history_k_data_plus(\"sh.601933\",\n",
    "    \"date,time,code,open,high,low,close,volume,amount,adjustflag\",\n",
    "    start_date='2024-12-27', end_date='2024-12-31',\n",
    "    frequency=\"5\", adjustflag=\"3\")\n",
    "print('query_history_k_data_plus respond error_code:'+rs.error_code)\n",
    "print('query_history_k_data_plus respond  error_msg:'+rs.error_msg)\n",
    "\n",
    "#### 打印结果集 ####\n",
    "data_list = []\n",
    "while (rs.error_code == '0') & rs.next():\n",
    "    # 获取一条记录，将记录合并在一起\n",
    "    data_list.append(rs.get_row_data())\n",
    "result = pd.DataFrame(data_list, columns=rs.fields)\n",
    "\n",
    "# #### 结果集输出到csv文件 ####   \n",
    "# result.to_csv(\"D:\\\\history_A_stock_k_data.csv\", index=False)\n",
    "# print(result)\n",
    "result\n",
    "#### 登出系统 ####\n",
    "bs.logout()"
   ],
   "metadata": {
    "collapsed": false,
    "ExecuteTime": {
     "end_time": "2024-12-28T10:50:16.750895800Z",
     "start_time": "2024-12-28T10:50:16.315890300Z"
    }
   },
   "id": "fb9aa702f15c96ae"
  },
  {
   "cell_type": "code",
   "execution_count": 49,
   "outputs": [
    {
     "name": "stdout",
     "output_type": "stream",
     "text": [
      "login success!\n",
      "login respond error_code:0\n",
      "login respond  error_msg:success\n",
      "query_all_stock respond error_code:0\n",
      "query_all_stock respond  error_msg:success\n",
      "           code tradeStatus   code_name\n",
      "0     sh.000001           1      上证综合指数\n",
      "1     sh.000002           1      上证A股指数\n",
      "2     sh.000003           1      上证B股指数\n",
      "3     sh.000004           1     上证工业类指数\n",
      "4     sh.000005           1     上证商业类指数\n",
      "...         ...         ...         ...\n",
      "5597  sz.399994           1  中证信息安全主题指数\n",
      "5598  sz.399995           1    中证基建工程指数\n",
      "5599  sz.399996           1    中证智能家居指数\n",
      "5600  sz.399997           1      中证白酒指数\n",
      "5601  sz.399998           1      中证煤炭指数\n",
      "\n",
      "[5602 rows x 3 columns]\n",
      "logout success!\n"
     ]
    },
    {
     "data": {
      "text/plain": "<baostock.data.resultset.ResultData at 0x1a10b95e760>"
     },
     "execution_count": 49,
     "metadata": {},
     "output_type": "execute_result"
    }
   ],
   "source": [
    "import baostock as bs\n",
    "import pandas as pd\n",
    "\n",
    "#### 登陆系统 ####\n",
    "lg = bs.login()\n",
    "# 显示登陆返回信息\n",
    "print('login respond error_code:'+lg.error_code)\n",
    "print('login respond  error_msg:'+lg.error_msg)\n",
    "\n",
    "#### 获取某日所有证券信息 ####\n",
    "rs = bs.query_all_stock(day=\"2024-10-25\")\n",
    "print('query_all_stock respond error_code:'+rs.error_code)\n",
    "print('query_all_stock respond  error_msg:'+rs.error_msg)\n",
    "\n",
    "#### 打印结果集 ####\n",
    "data_list = []\n",
    "while (rs.error_code == '0') & rs.next():\n",
    "    # 获取一条记录，将记录合并在一起\n",
    "    data_list.append(rs.get_row_data())\n",
    "result = pd.DataFrame(data_list, columns=rs.fields)\n",
    "\n",
    "#### 结果集输出到csv文件 ####   \n",
    "# result.to_csv(\"D:\\\\all_stock.csv\", encoding=\"gbk\", index=False)\n",
    "print(result)\n",
    "\n",
    "#### 登出系统 ####\n",
    "bs.logout()"
   ],
   "metadata": {
    "collapsed": false,
    "ExecuteTime": {
     "end_time": "2024-12-29T17:30:21.818773900Z",
     "start_time": "2024-12-29T17:30:21.365230400Z"
    }
   },
   "id": "314542fda30fef50"
  },
  {
   "cell_type": "code",
   "execution_count": 50,
   "outputs": [
    {
     "data": {
      "text/plain": "           code tradeStatus   code_name\n0     sh.000001           1      上证综合指数\n1     sh.000002           1      上证A股指数\n2     sh.000003           1      上证B股指数\n3     sh.000004           1     上证工业类指数\n4     sh.000005           1     上证商业类指数\n...         ...         ...         ...\n5597  sz.399994           1  中证信息安全主题指数\n5598  sz.399995           1    中证基建工程指数\n5599  sz.399996           1    中证智能家居指数\n5600  sz.399997           1      中证白酒指数\n5601  sz.399998           1      中证煤炭指数\n\n[5602 rows x 3 columns]",
      "text/html": "<div>\n<style scoped>\n    .dataframe tbody tr th:only-of-type {\n        vertical-align: middle;\n    }\n\n    .dataframe tbody tr th {\n        vertical-align: top;\n    }\n\n    .dataframe thead th {\n        text-align: right;\n    }\n</style>\n<table border=\"1\" class=\"dataframe\">\n  <thead>\n    <tr style=\"text-align: right;\">\n      <th></th>\n      <th>code</th>\n      <th>tradeStatus</th>\n      <th>code_name</th>\n    </tr>\n  </thead>\n  <tbody>\n    <tr>\n      <th>0</th>\n      <td>sh.000001</td>\n      <td>1</td>\n      <td>上证综合指数</td>\n    </tr>\n    <tr>\n      <th>1</th>\n      <td>sh.000002</td>\n      <td>1</td>\n      <td>上证A股指数</td>\n    </tr>\n    <tr>\n      <th>2</th>\n      <td>sh.000003</td>\n      <td>1</td>\n      <td>上证B股指数</td>\n    </tr>\n    <tr>\n      <th>3</th>\n      <td>sh.000004</td>\n      <td>1</td>\n      <td>上证工业类指数</td>\n    </tr>\n    <tr>\n      <th>4</th>\n      <td>sh.000005</td>\n      <td>1</td>\n      <td>上证商业类指数</td>\n    </tr>\n    <tr>\n      <th>...</th>\n      <td>...</td>\n      <td>...</td>\n      <td>...</td>\n    </tr>\n    <tr>\n      <th>5597</th>\n      <td>sz.399994</td>\n      <td>1</td>\n      <td>中证信息安全主题指数</td>\n    </tr>\n    <tr>\n      <th>5598</th>\n      <td>sz.399995</td>\n      <td>1</td>\n      <td>中证基建工程指数</td>\n    </tr>\n    <tr>\n      <th>5599</th>\n      <td>sz.399996</td>\n      <td>1</td>\n      <td>中证智能家居指数</td>\n    </tr>\n    <tr>\n      <th>5600</th>\n      <td>sz.399997</td>\n      <td>1</td>\n      <td>中证白酒指数</td>\n    </tr>\n    <tr>\n      <th>5601</th>\n      <td>sz.399998</td>\n      <td>1</td>\n      <td>中证煤炭指数</td>\n    </tr>\n  </tbody>\n</table>\n<p>5602 rows × 3 columns</p>\n</div>"
     },
     "execution_count": 50,
     "metadata": {},
     "output_type": "execute_result"
    }
   ],
   "source": [
    "result"
   ],
   "metadata": {
    "collapsed": false,
    "ExecuteTime": {
     "end_time": "2024-12-29T17:30:31.872699300Z",
     "start_time": "2024-12-29T17:30:31.852064700Z"
    }
   },
   "id": "b554e5928f12090c"
  },
  {
   "cell_type": "code",
   "execution_count": 2,
   "outputs": [
    {
     "ename": "ImportError",
     "evalue": "cannot import name 'py_mini_racer' from 'py_mini_racer' (C:\\Users\\iamje\\AppData\\Roaming\\Python\\Python38\\site-packages\\py_mini_racer\\__init__.py)",
     "output_type": "error",
     "traceback": [
      "\u001B[1;31m---------------------------------------------------------------------------\u001B[0m",
      "\u001B[1;31mImportError\u001B[0m                               Traceback (most recent call last)",
      "Cell \u001B[1;32mIn[2], line 1\u001B[0m\n\u001B[1;32m----> 1\u001B[0m \u001B[38;5;28;01mimport\u001B[39;00m \u001B[38;5;21;01madata\u001B[39;00m\n",
      "File \u001B[1;32m~\\scoop\\apps\\anaconda3\\current\\App\\envs\\pytorch\\lib\\site-packages\\adata\\__init__.py:14\u001B[0m\n\u001B[0;32m     12\u001B[0m \u001B[38;5;28;01mfrom\u001B[39;00m \u001B[38;5;21;01madata\u001B[39;00m\u001B[38;5;21;01m.\u001B[39;00m\u001B[38;5;21;01mbond\u001B[39;00m \u001B[38;5;28;01mimport\u001B[39;00m bond\n\u001B[0;32m     13\u001B[0m \u001B[38;5;28;01mfrom\u001B[39;00m \u001B[38;5;21;01madata\u001B[39;00m\u001B[38;5;21;01m.\u001B[39;00m\u001B[38;5;21;01mcommon\u001B[39;00m\u001B[38;5;21;01m.\u001B[39;00m\u001B[38;5;21;01mutils\u001B[39;00m\u001B[38;5;21;01m.\u001B[39;00m\u001B[38;5;21;01msunrequests\u001B[39;00m \u001B[38;5;28;01mimport\u001B[39;00m SunProxy\n\u001B[1;32m---> 14\u001B[0m \u001B[38;5;28;01mfrom\u001B[39;00m \u001B[38;5;21;01madata\u001B[39;00m\u001B[38;5;21;01m.\u001B[39;00m\u001B[38;5;21;01mfund\u001B[39;00m \u001B[38;5;28;01mimport\u001B[39;00m fund\n\u001B[0;32m     15\u001B[0m \u001B[38;5;28;01mfrom\u001B[39;00m \u001B[38;5;21;01madata\u001B[39;00m\u001B[38;5;21;01m.\u001B[39;00m\u001B[38;5;21;01msentiment\u001B[39;00m \u001B[38;5;28;01mimport\u001B[39;00m sentiment\n\u001B[0;32m     16\u001B[0m \u001B[38;5;28;01mfrom\u001B[39;00m \u001B[38;5;21;01madata\u001B[39;00m\u001B[38;5;21;01m.\u001B[39;00m\u001B[38;5;21;01mstock\u001B[39;00m \u001B[38;5;28;01mimport\u001B[39;00m stock\n",
      "File \u001B[1;32m~\\scoop\\apps\\anaconda3\\current\\App\\envs\\pytorch\\lib\\site-packages\\adata\\fund\\__init__.py:9\u001B[0m\n\u001B[0;32m      1\u001B[0m \u001B[38;5;66;03m# -*- coding: utf-8 -*-\u001B[39;00m\n\u001B[0;32m      2\u001B[0m \u001B[38;5;124;03m\"\"\"\u001B[39;00m\n\u001B[0;32m      3\u001B[0m \u001B[38;5;124;03m@desc: 场内ETF相关数据\u001B[39;00m\n\u001B[0;32m      4\u001B[0m \u001B[38;5;124;03m@author: 1nchaos\u001B[39;00m\n\u001B[0;32m      5\u001B[0m \u001B[38;5;124;03m@time: 2023/4/4\u001B[39;00m\n\u001B[0;32m      6\u001B[0m \u001B[38;5;124;03m@log: change log\u001B[39;00m\n\u001B[0;32m      7\u001B[0m \u001B[38;5;124;03m\"\"\"\u001B[39;00m\n\u001B[1;32m----> 9\u001B[0m \u001B[38;5;28;01mfrom\u001B[39;00m \u001B[38;5;21;01madata\u001B[39;00m\u001B[38;5;21;01m.\u001B[39;00m\u001B[38;5;21;01mfund\u001B[39;00m\u001B[38;5;21;01m.\u001B[39;00m\u001B[38;5;21;01minfo\u001B[39;00m \u001B[38;5;28;01mimport\u001B[39;00m info\n\u001B[0;32m     10\u001B[0m \u001B[38;5;28;01mfrom\u001B[39;00m \u001B[38;5;21;01madata\u001B[39;00m\u001B[38;5;21;01m.\u001B[39;00m\u001B[38;5;21;01mfund\u001B[39;00m\u001B[38;5;21;01m.\u001B[39;00m\u001B[38;5;21;01mmarket\u001B[39;00m \u001B[38;5;28;01mimport\u001B[39;00m market\n\u001B[0;32m     13\u001B[0m \u001B[38;5;28;01mclass\u001B[39;00m \u001B[38;5;21;01mFund\u001B[39;00m(\u001B[38;5;28mobject\u001B[39m):\n",
      "File \u001B[1;32m~\\scoop\\apps\\anaconda3\\current\\App\\envs\\pytorch\\lib\\site-packages\\adata\\fund\\info\\__init__.py:8\u001B[0m\n\u001B[0;32m      1\u001B[0m \u001B[38;5;66;03m# -*- coding: utf-8 -*-\u001B[39;00m\n\u001B[0;32m      2\u001B[0m \u001B[38;5;124;03m\"\"\"\u001B[39;00m\n\u001B[0;32m      3\u001B[0m \u001B[38;5;124;03m@desc: readme\u001B[39;00m\n\u001B[0;32m      4\u001B[0m \u001B[38;5;124;03m@author: 1nchaos\u001B[39;00m\n\u001B[0;32m      5\u001B[0m \u001B[38;5;124;03m@time: 2023/6/5\u001B[39;00m\n\u001B[0;32m      6\u001B[0m \u001B[38;5;124;03m@log: change log\u001B[39;00m\n\u001B[0;32m      7\u001B[0m \u001B[38;5;124;03m\"\"\"\u001B[39;00m\n\u001B[1;32m----> 8\u001B[0m \u001B[38;5;28;01mfrom\u001B[39;00m \u001B[38;5;21;01madata\u001B[39;00m\u001B[38;5;21;01m.\u001B[39;00m\u001B[38;5;21;01mfund\u001B[39;00m\u001B[38;5;21;01m.\u001B[39;00m\u001B[38;5;21;01minfo\u001B[39;00m\u001B[38;5;21;01m.\u001B[39;00m\u001B[38;5;21;01mfund_info\u001B[39;00m \u001B[38;5;28;01mimport\u001B[39;00m FundInfo\n\u001B[0;32m     11\u001B[0m \u001B[38;5;28;01mclass\u001B[39;00m \u001B[38;5;21;01mInfo\u001B[39;00m(FundInfo):\n\u001B[0;32m     13\u001B[0m     \u001B[38;5;28;01mdef\u001B[39;00m \u001B[38;5;21m__init__\u001B[39m(\u001B[38;5;28mself\u001B[39m) \u001B[38;5;241m-\u001B[39m\u001B[38;5;241m>\u001B[39m \u001B[38;5;28;01mNone\u001B[39;00m:\n",
      "File \u001B[1;32m~\\scoop\\apps\\anaconda3\\current\\App\\envs\\pytorch\\lib\\site-packages\\adata\\fund\\info\\fund_info.py:17\u001B[0m\n\u001B[0;32m     14\u001B[0m \u001B[38;5;28;01mimport\u001B[39;00m \u001B[38;5;21;01mpandas\u001B[39;00m \u001B[38;5;28;01mas\u001B[39;00m \u001B[38;5;21;01mpd\u001B[39;00m\n\u001B[0;32m     16\u001B[0m \u001B[38;5;28;01mfrom\u001B[39;00m \u001B[38;5;21;01madata\u001B[39;00m\u001B[38;5;21;01m.\u001B[39;00m\u001B[38;5;21;01mcommon\u001B[39;00m \u001B[38;5;28;01mimport\u001B[39;00m requests\n\u001B[1;32m---> 17\u001B[0m \u001B[38;5;28;01mfrom\u001B[39;00m \u001B[38;5;21;01madata\u001B[39;00m\u001B[38;5;21;01m.\u001B[39;00m\u001B[38;5;21;01mcommon\u001B[39;00m\u001B[38;5;21;01m.\u001B[39;00m\u001B[38;5;21;01mbase\u001B[39;00m\u001B[38;5;21;01m.\u001B[39;00m\u001B[38;5;21;01mbase_ths\u001B[39;00m \u001B[38;5;28;01mimport\u001B[39;00m BaseThs\n\u001B[0;32m     18\u001B[0m \u001B[38;5;28;01mfrom\u001B[39;00m \u001B[38;5;21;01madata\u001B[39;00m\u001B[38;5;21;01m.\u001B[39;00m\u001B[38;5;21;01mcommon\u001B[39;00m\u001B[38;5;21;01m.\u001B[39;00m\u001B[38;5;21;01mexception\u001B[39;00m\u001B[38;5;21;01m.\u001B[39;00m\u001B[38;5;21;01mexception_msg\u001B[39;00m \u001B[38;5;28;01mimport\u001B[39;00m THS_IP_LIMIT_RES, THS_IP_LIMIT_MSG\n\u001B[0;32m     21\u001B[0m \u001B[38;5;28;01mclass\u001B[39;00m \u001B[38;5;21;01mFundInfo\u001B[39;00m(BaseThs):\n",
      "File \u001B[1;32m~\\scoop\\apps\\anaconda3\\current\\App\\envs\\pytorch\\lib\\site-packages\\adata\\common\\base\\base_ths.py:14\u001B[0m\n\u001B[0;32m     11\u001B[0m \u001B[38;5;28;01mimport\u001B[39;00m \u001B[38;5;21;01mtime\u001B[39;00m\n\u001B[0;32m     13\u001B[0m \u001B[38;5;28;01mfrom\u001B[39;00m \u001B[38;5;21;01mbs4\u001B[39;00m \u001B[38;5;28;01mimport\u001B[39;00m BeautifulSoup\n\u001B[1;32m---> 14\u001B[0m \u001B[38;5;28;01mfrom\u001B[39;00m \u001B[38;5;21;01mpy_mini_racer\u001B[39;00m \u001B[38;5;28;01mimport\u001B[39;00m py_mini_racer\n\u001B[0;32m     16\u001B[0m \u001B[38;5;28;01mfrom\u001B[39;00m \u001B[38;5;21;01madata\u001B[39;00m\u001B[38;5;21;01m.\u001B[39;00m\u001B[38;5;21;01mcommon\u001B[39;00m \u001B[38;5;28;01mimport\u001B[39;00m requests\n\u001B[0;32m     17\u001B[0m \u001B[38;5;28;01mfrom\u001B[39;00m \u001B[38;5;21;01madata\u001B[39;00m\u001B[38;5;21;01m.\u001B[39;00m\u001B[38;5;21;01mcommon\u001B[39;00m\u001B[38;5;21;01m.\u001B[39;00m\u001B[38;5;21;01mheaders\u001B[39;00m \u001B[38;5;28;01mimport\u001B[39;00m ths_headers\n",
      "\u001B[1;31mImportError\u001B[0m: cannot import name 'py_mini_racer' from 'py_mini_racer' (C:\\Users\\iamje\\AppData\\Roaming\\Python\\Python38\\site-packages\\py_mini_racer\\__init__.py)"
     ]
    }
   ],
   "source": [
    "import adata"
   ],
   "metadata": {
    "collapsed": false,
    "ExecuteTime": {
     "end_time": "2025-01-30T19:34:43.226077800Z",
     "start_time": "2025-01-30T19:34:43.153678500Z"
    }
   },
   "id": "4e7c62214b65c6b8"
  },
  {
   "cell_type": "code",
   "execution_count": 3,
   "outputs": [
    {
     "ename": "ModuleNotFoundError",
     "evalue": "No module named 'pywencai'",
     "output_type": "error",
     "traceback": [
      "\u001B[1;31m---------------------------------------------------------------------------\u001B[0m",
      "\u001B[1;31mModuleNotFoundError\u001B[0m                       Traceback (most recent call last)",
      "Cell \u001B[1;32mIn[3], line 1\u001B[0m\n\u001B[1;32m----> 1\u001B[0m \u001B[38;5;28;01mimport\u001B[39;00m \u001B[38;5;21;01mqstock\u001B[39;00m \u001B[38;5;28;01mas\u001B[39;00m \u001B[38;5;21;01mqs\u001B[39;00m\n\u001B[0;32m      3\u001B[0m qs\u001B[38;5;241m.\u001B[39mwencai(\u001B[38;5;124m'\u001B[39m\u001B[38;5;124m5日均线角度排名，涨跌幅＜5\u001B[39m\u001B[38;5;124m%\u001B[39m\u001B[38;5;124m，五日均线*1.02，(收盘价-五日均线)/收盘价，上上个交易日涨停原因，上个交易日非涨停，上个交易日非跌停，上上个交易日首板涨停，主板非st，五日均线>十日均线\u001B[39m\u001B[38;5;124m'\u001B[39m)\n",
      "File \u001B[1;32m~\\scoop\\apps\\anaconda3\\current\\App\\envs\\myStock\\Lib\\site-packages\\qstock\\__init__.py:36\u001B[0m\n\u001B[0;32m     32\u001B[0m \u001B[38;5;28;01mfrom\u001B[39;00m \u001B[38;5;21;01mqstock\u001B[39;00m\u001B[38;5;21;01m.\u001B[39;00m\u001B[38;5;21;01mbacktest\u001B[39;00m\u001B[38;5;21;01m.\u001B[39;00m\u001B[38;5;21;01mturtle\u001B[39;00m \u001B[38;5;28;01mimport\u001B[39;00m \u001B[38;5;241m*\u001B[39m\n\u001B[0;32m     35\u001B[0m \u001B[38;5;66;03m#问财数据\u001B[39;00m\n\u001B[1;32m---> 36\u001B[0m \u001B[38;5;28;01mimport\u001B[39;00m \u001B[38;5;21;01mpywencai\u001B[39;00m\n\u001B[0;32m     38\u001B[0m \u001B[38;5;28;01mdef\u001B[39;00m \u001B[38;5;21mwencai\u001B[39m(query,query_type\u001B[38;5;241m=\u001B[39m\u001B[38;5;124m'\u001B[39m\u001B[38;5;124mstock\u001B[39m\u001B[38;5;124m'\u001B[39m):\n\u001B[0;32m     39\u001B[0m \u001B[38;5;250m    \u001B[39m\u001B[38;5;124;03m'''获取结果'''\u001B[39;00m\n",
      "\u001B[1;31mModuleNotFoundError\u001B[0m: No module named 'pywencai'"
     ]
    }
   ],
   "source": [
    "import qstock as qs\n",
    "\n",
    "qs.wencai('5日均线角度排名，涨跌幅＜5%，五日均线*1.02，(收盘价-五日均线)/收盘价，上上个交易日涨停原因，上个交易日非涨停，上个交易日非跌停，上上个交易日首板涨停，主板非st，五日均线>十日均线')"
   ],
   "metadata": {
    "collapsed": false,
    "ExecuteTime": {
     "end_time": "2025-02-12T17:22:29.049294200Z",
     "start_time": "2025-02-12T17:22:29.018896600Z"
    }
   },
   "id": "f84ff3d69febf80c"
  },
  {
   "cell_type": "code",
   "execution_count": 5,
   "outputs": [
    {
     "ename": "NameError",
     "evalue": "name '__file__' is not defined",
     "output_type": "error",
     "traceback": [
      "\u001B[1;31m---------------------------------------------------------------------------\u001B[0m",
      "\u001B[1;31mNameError\u001B[0m                                 Traceback (most recent call last)",
      "Cell \u001B[1;32mIn[5], line 146\u001B[0m\n\u001B[0;32m    142\u001B[0m         \u001B[38;5;28;01melse\u001B[39;00m:\n\u001B[0;32m    143\u001B[0m             \u001B[38;5;28;01mreturn\u001B[39;00m \u001B[38;5;28msuper\u001B[39m(Session, \u001B[38;5;28mself\u001B[39m)\u001B[38;5;241m.\u001B[39mpost(url\u001B[38;5;241m=\u001B[39murl, data\u001B[38;5;241m=\u001B[39mdata, json\u001B[38;5;241m=\u001B[39mjson, proxies\u001B[38;5;241m=\u001B[39m\u001B[38;5;28mself\u001B[39m\u001B[38;5;241m.\u001B[39mproxies, verify\u001B[38;5;241m=\u001B[39m\u001B[38;5;28mself\u001B[39m\u001B[38;5;241m.\u001B[39mverify,\n\u001B[0;32m    144\u001B[0m                                              \u001B[38;5;241m*\u001B[39m\u001B[38;5;241m*\u001B[39mkwargs)\n\u001B[1;32m--> 146\u001B[0m cookies \u001B[38;5;241m=\u001B[39m WencaiCookie()\n\u001B[0;32m    147\u001B[0m session \u001B[38;5;241m=\u001B[39m Session(proxies\u001B[38;5;241m=\u001B[39m\u001B[38;5;28;01mNone\u001B[39;00m, verify\u001B[38;5;241m=\u001B[39m\u001B[38;5;28;01mFalse\u001B[39;00m)\n\u001B[0;32m    148\u001B[0m session\u001B[38;5;241m.\u001B[39mheaders\u001B[38;5;241m.\u001B[39mupdate({\u001B[38;5;124m'\u001B[39m\u001B[38;5;124mHost\u001B[39m\u001B[38;5;124m'\u001B[39m:\u001B[38;5;124m'\u001B[39m\u001B[38;5;124mwww.iwencai.com\u001B[39m\u001B[38;5;124m'\u001B[39m})\n",
      "Cell \u001B[1;32mIn[5], line 56\u001B[0m, in \u001B[0;36mWencaiCookie.__init__\u001B[1;34m(self)\u001B[0m\n\u001B[0;32m     55\u001B[0m \u001B[38;5;28;01mdef\u001B[39;00m \u001B[38;5;21m__init__\u001B[39m(\u001B[38;5;28mself\u001B[39m):\n\u001B[1;32m---> 56\u001B[0m     \u001B[38;5;28mself\u001B[39m\u001B[38;5;241m.\u001B[39mjson_path \u001B[38;5;241m=\u001B[39m os\u001B[38;5;241m.\u001B[39mpath\u001B[38;5;241m.\u001B[39mdirname(\u001B[38;5;18m__file__\u001B[39m) \u001B[38;5;241m+\u001B[39m \u001B[38;5;124m'\u001B[39m\u001B[38;5;124m/cookies.json\u001B[39m\u001B[38;5;124m'\u001B[39m\n",
      "\u001B[1;31mNameError\u001B[0m: name '__file__' is not defined"
     ]
    }
   ],
   "source": [
    "# -*- coding: utf-8 -*-\n",
    "\"\"\"\n",
    "Created on Fri May  5 19:16:32 2023\n",
    "\n",
    "@author: tkfy9\n",
    "\"\"\"\n",
    "import re\n",
    "import pandas as pd\n",
    "import requests\n",
    "import random\n",
    "import os\n",
    "import json\n",
    "import execjs\n",
    "import datetime as dt\n",
    "\n",
    "WENCAI_LOGIN_URL = {\n",
    "    \"scrape_transaction\": 'http://www.iwencai.com/traceback/strategy/transaction',\n",
    "    \"scrape_report\": 'http://www.iwencai.com/traceback/strategy/submit',\n",
    "    'strategy': 'http://www.iwencai.com/traceback/strategy/submit',\n",
    "    \"search\": \"http://www.iwencai.com/data-robot/extract-new\",\n",
    "    'recommend_strategy': 'http://www.iwencai.com/traceback/list/get-strategy',\n",
    "    'backtest': 'http://backtest.10jqka.com.cn/backtest/app.html#/backtest',\n",
    "    'lastjs':'http://x.10jqka.com.cn/stockpick?tid=stockpick&ts=1&qs=pc_~soniu~stock~stock~znxg~topbar&allow_redirect=false&zhineng=opened'\n",
    "}\n",
    "\n",
    "WENCAI_CRAWLER_URL = {\n",
    "    'history_detail': 'http://backtest.10jqka.com.cn/backtestonce/historydetail?sort_by=desc&id={backtest_id}&start_date={start_date}&end_date={end_date}&period={period}',\n",
    "    \"backtest\": \"http://backtest.10jqka.com.cn/backtestonce/backtest\",\n",
    "    \"yieldbacktest\": \"http://backtest.10jqka.com.cn/tradebacktest/yieldbacktest\",\n",
    "    \"history_pick\": 'http://backtest.10jqka.com.cn/tradebacktest/historypick?query={query}&hold_num={hold_num}&trade_date={trade_date}',\n",
    "    'eventbacktest': 'http://backtest.10jqka.com.cn/eventbacktest/backtest',\n",
    "    'lastjs':'http://d.10jqka.com.cn/v2/time/{}/last.js',\n",
    "    'search': 'http://x.10jqka.com.cn/unifiedwap/unified-wap/v2/result/get-robot-data'\n",
    "\n",
    "}\n",
    "\n",
    "WENCAI_HEADERS = {\n",
    "    'backtest': {\n",
    "        'Host': \"backtest.10jqka.com.cn\",\n",
    "        'Origin': \"http://backtest.10jqka.com.cn\",\n",
    "        \"Referer\": \"http://backtest.10jqka.com.cn/backtest/app.html\",\n",
    "    },\n",
    "    'lastjs':{\n",
    "        'Host': \"d.10jqka.com.cn\",\n",
    "        # 'Origin': \"http://backtest.10jqka.com.cn\",\n",
    "        \"Referer\": \"http://x.10jqka.com.cn/\",\n",
    "        \"User-Agent\":\"Mozilla/5.0 (Macintosh; Intel Mac OS X 10_15_7) AppleWebKit/537.36 (KHTML, like Gecko) Chrome/90.0.4430.93 Safari/537.36\"\n",
    "    }\n",
    "\n",
    "}\n",
    "\n",
    "\n",
    "class WencaiCookie:\n",
    "\n",
    "    def __init__(self):\n",
    "        self.json_path = os.path.dirname(__file__) + '/cookies.json'\n",
    "\n",
    "    def getHeXinVByHttp(self):\n",
    "        with open(os.path.dirname(os.path.dirname(__file__)) + '\\\\data\\\\hexin.js', 'r') as f:\n",
    "            jscontent = f.read()\n",
    "        context = execjs.compile(jscontent)\n",
    "        return context.call(\"v\")\n",
    "\n",
    "    def setHexinByJson(self, source, cookies=None):\n",
    "        if cookies is None: cookies = dict()\n",
    "        henxin_v = self.getHeXinVByHttp()\n",
    "        cookies[source] = henxin_v\n",
    "        cookies['expire_time'] = dt.datetime.today().strftime('%Y-%m-%d %H:%M:%S')\n",
    "        with open(self.json_path, 'w') as f:\n",
    "            json.dump(cookies, f)\n",
    "        return henxin_v\n",
    "\n",
    "    def is_expire(self, expire_time, days=3):\n",
    "        delta = dt.datetime.today() - dt.datetime.strptime(expire_time, '%Y-%m-%d %H:%M:%S')\n",
    "        if delta.days >= days:\n",
    "            return True\n",
    "        else:\n",
    "            return False\n",
    "\n",
    "    def getHexinVByJson(self, source):\n",
    "        json_path = os.path.dirname(__file__) + '/cookies.json'\n",
    "        if os.path.exists(json_path):\n",
    "            with open(json_path, 'r') as f:\n",
    "                cookies = json.load(f)\n",
    "\n",
    "            if source in cookies:\n",
    "                if not self.is_expire(cookies['expire_time']):\n",
    "                    return cookies[source]\n",
    "                else:\n",
    "                    return self.setHexinByJson(source=source, cookies=cookies)\n",
    "            else:\n",
    "                return self.setHexinByJson(source=source, cookies=cookies)\n",
    "        else:\n",
    "            self.setHexinByJson(source=source)\n",
    "\n",
    "\n",
    "class Session(requests.Session):\n",
    "    headers = {\n",
    "        \"Accept\": \"application/json,text/javascript,*/*;q=0.01\",\n",
    "        \"Accept-Encoding\": \"gzip, deflate\",\n",
    "        \"Accept-Language\": \"zh-CN,zh;q=0.8\",\n",
    "        'Connection': 'keep-alive',\n",
    "        'Content-Type': \"application/x-www-form-urlencoded; charset=UTF-8\",\n",
    "        'User-Agent': \"Mozilla/5.0 (Windows NT 10.0; WOW64) AppleWebKit/537.36 (KHTML, like Gecko) Chrome/55.0.2883.87 Safari/537.36\",\n",
    "        'X-Requested-With': \"XMLHttpRequest\"\n",
    "\n",
    "    }\n",
    "\n",
    "    def __init__(self, proxies=None, verify=False):\n",
    "        requests.Session.__init__(self)\n",
    "        self.headers.update(Session.headers)\n",
    "        if proxies is not None:\n",
    "            if not isinstance(proxies, (list, dict)):\n",
    "                raise TypeError('proxies should be list or dict')\n",
    "            if isinstance(proxies, list):\n",
    "                proxies = random.choice(proxies)\n",
    "        self.proxies = proxies\n",
    "        self.verify = verify\n",
    "\n",
    "    def update_headers(self, source, add_headers, force_cookies=False):\n",
    "        if force_cookies:\n",
    "            self.headers['hexin-v'] = WencaiCookie().getHeXinVByHttp()\n",
    "        else:\n",
    "            self.headers['hexin-v'] = WencaiCookie().getHexinVByJson(source=source)\n",
    "        if add_headers is not None:\n",
    "            if not isinstance(add_headers, dict):\n",
    "                raise TypeError('update_headers should be `dict` type.')\n",
    "            for k, v in add_headers.items():\n",
    "                self.headers[k] = v\n",
    "\n",
    "    def get_result(self, url, source=None, force_cookies=False, add_headers=None, **kwargs):\n",
    "        self.update_headers(add_headers=add_headers, source=source, force_cookies=force_cookies)\n",
    "        if self.proxies is None:\n",
    "            return super(Session, self).get(url=url, **kwargs)\n",
    "        else:\n",
    "            return super(Session, self).get(url=url, proxies=self.proxies, verify=self.verify, **kwargs)\n",
    "\n",
    "    def post_result(self, url, source=None, data=None, json=None, add_headers=None, force_cookies=False, **kwargs):\n",
    "        self.update_headers(add_headers=add_headers, source=source, force_cookies=force_cookies)\n",
    "        if self.proxies is None:\n",
    "            return super(Session, self).post(url=url, data=data, json=json, **kwargs)\n",
    "        else:\n",
    "            return super(Session, self).post(url=url, data=data, json=json, proxies=self.proxies, verify=self.verify,\n",
    "                                             **kwargs)\n",
    "\n",
    "cookies = WencaiCookie()\n",
    "session = Session(proxies=None, verify=False)\n",
    "session.headers.update({'Host':'www.iwencai.com'})\n",
    "\n",
    "def wencai(question):\n",
    "    '''\n",
    "    question:输入你要问的条件，不同条件使用“，”或“；”或空格\n",
    "    如'均线多头排列'\n",
    "    \n",
    "    '''\n",
    "    payload = {\n",
    "            \"question\": question,\n",
    "            \"page\": 100,\n",
    "            \"perpage\": 100,\n",
    "            \"log_info\": '{\"input_type\": \"typewrite\"}',\n",
    "            \"source\": \"Ths_iwencai_Xuangu\",\n",
    "            \"version\": 2.0,\n",
    "            \"secondary_intent\": \"\",\n",
    "            \"query_area\": \"\",\n",
    "            \"block_list\": \"\",\n",
    "            \"add_info\": '{\"urp\": {\"scene\": 1, \"company\": 1, \"business\": 1}, \"contentType\": \"json\", \"searchInfo\": true}'\n",
    "        }\n",
    "\n",
    "    r = session.post_result(url=WENCAI_CRAWLER_URL['search'],\n",
    "                                     data=payload, force_cookies=True)\n",
    "    try:\n",
    "        result = r.json()['data']['answer'][0]['txt'][0]['content']['components'][0]['data']['datas']\n",
    "    except:\n",
    "        result={}\n",
    "        print('没有你要的结果')\n",
    "\n",
    "    def _re_str(x: str):\n",
    "        _re = re.findall('(.*):前复权', x)\n",
    "        if len(_re) >= 1:\n",
    "            x = _re[-1]\n",
    "        check_date = re.search(r\"(\\d{4}\\d{1,2}\\d{1,2})\",x)\n",
    "        if check_date is not None:\n",
    "            return x.replace('[{}]'.format(check_date.group()), '')\n",
    "        else:\n",
    "            return x\n",
    "\n",
    "    data = pd.DataFrame().from_dict(result)\n",
    "    if not data.empty:\n",
    "        columns = {i: _re_str(i) for i in data.columns}\n",
    "        data = data.rename(columns=columns)\n",
    "        for col in ['market_code', 'code', '关键词资讯', '涨跌幅']:\n",
    "            if col in data.columns:\n",
    "                del data[col]\n",
    "    return data"
   ],
   "metadata": {
    "collapsed": false,
    "ExecuteTime": {
     "end_time": "2025-02-12T17:24:56.830015800Z",
     "start_time": "2025-02-12T17:24:56.780574700Z"
    }
   },
   "id": "a7ec836f36c6231"
  },
  {
   "cell_type": "code",
   "execution_count": null,
   "outputs": [],
   "source": [],
   "metadata": {
    "collapsed": false
   },
   "id": "41a95c502e7d7c61"
  }
 ],
 "metadata": {
  "kernelspec": {
   "display_name": "Python 3",
   "language": "python",
   "name": "python3"
  },
  "language_info": {
   "codemirror_mode": {
    "name": "ipython",
    "version": 2
   },
   "file_extension": ".py",
   "mimetype": "text/x-python",
   "name": "python",
   "nbconvert_exporter": "python",
   "pygments_lexer": "ipython2",
   "version": "2.7.6"
  }
 },
 "nbformat": 4,
 "nbformat_minor": 5
}
